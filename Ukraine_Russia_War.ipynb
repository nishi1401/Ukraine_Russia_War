{
  "cells": [
    {
      "cell_type": "markdown",
      "metadata": {
        "id": "7jyzUc2n7u4p"
      },
      "source": [
        "# Loading the dataset"
      ],
      "id": "7jyzUc2n7u4p"
    },
    {
      "cell_type": "code",
      "execution_count": 4,
      "metadata": {
        "id": "985ceac8"
      },
      "outputs": [],
      "source": [
        "import numpy as np\n",
        "import pandas as pd\n",
        "import matplotlib.pyplot as plt\n",
        "import seaborn as sns\n",
        "\n",
        "import re\n",
        "import nltk\n"
      ],
      "id": "985ceac8"
    },
    {
      "cell_type": "code",
      "execution_count": 5,
      "metadata": {
        "colab": {
          "base_uri": "https://localhost:8080/"
        },
        "id": "Ekxo6kSmfWXk",
        "outputId": "e92e45e0-7d12-4421-9a59-3e587de5dedb"
      },
      "outputs": [
        {
          "output_type": "stream",
          "name": "stdout",
          "text": [
            "Mounted at /content/drive\n"
          ]
        }
      ],
      "source": [
        "from google.colab import drive\n",
        "drive.mount('/content/drive')"
      ],
      "id": "Ekxo6kSmfWXk"
    },
    {
      "cell_type": "code",
      "execution_count": 6,
      "metadata": {
        "id": "7ed0c154",
        "scrolled": true
      },
      "outputs": [],
      "source": [
        "df_1 = pd.read_csv('/content/drive/My Drive/Russia_invade.csv')\n",
        "df_2 = pd.read_csv('/content/drive/My Drive/Russian_border_Ukraine.csv')\n",
        "df_3 = pd.read_csv('/content/drive/My Drive/Russian_troops.csv')\n",
        "df_4 = pd.read_csv('/content/drive/My Drive/StandWithUkraine.csv')\n",
        "df_5 = pd.read_csv('/content/drive/My Drive/Ukraine_border.csv')\n",
        "df_6 = pd.read_csv('/content/drive/My Drive/Ukraine_nato.csv')\n",
        "df_7 = pd.read_csv('/content/drive/My Drive/Ukraine_troops.csv')\n",
        "df_8 = pd.read_csv('/content/drive/My Drive/Ukraine_war.csv')\n",
        "\n"
      ],
      "id": "7ed0c154"
    },
    {
      "cell_type": "code",
      "execution_count": 7,
      "metadata": {
        "id": "82f58c75"
      },
      "outputs": [],
      "source": [
        "df = pd.concat([df_1, df_2, df_3, df_4, df_5, df_6, df_7, df_8], axis=0)\n",
        "df.reset_index(inplace=True)"
      ],
      "id": "82f58c75"
    },
    {
      "cell_type": "code",
      "execution_count": 5,
      "metadata": {
        "colab": {
          "base_uri": "https://localhost:8080/"
        },
        "id": "66872179",
        "outputId": "638705b5-6953-4217-f408-3dd8b459509a"
      },
      "outputs": [
        {
          "output_type": "execute_result",
          "data": {
            "text/plain": [
              "(1316605, 30)"
            ]
          },
          "metadata": {},
          "execution_count": 5
        }
      ],
      "source": [
        "df.shape"
      ],
      "id": "66872179"
    },
    {
      "cell_type": "code",
      "execution_count": null,
      "metadata": {
        "colab": {
          "base_uri": "https://localhost:8080/",
          "height": 508
        },
        "id": "0ec3aaa2",
        "outputId": "b6ae29bc-bf0e-4adb-d76a-87fd9047d890"
      },
      "outputs": [
        {
          "data": {
            "text/html": [
              "\n",
              "  <div id=\"df-7e964a10-949e-4027-ac31-eb7d79d32967\">\n",
              "    <div class=\"colab-df-container\">\n",
              "      <div>\n",
              "<style scoped>\n",
              "    .dataframe tbody tr th:only-of-type {\n",
              "        vertical-align: middle;\n",
              "    }\n",
              "\n",
              "    .dataframe tbody tr th {\n",
              "        vertical-align: top;\n",
              "    }\n",
              "\n",
              "    .dataframe thead th {\n",
              "        text-align: right;\n",
              "    }\n",
              "</style>\n",
              "<table border=\"1\" class=\"dataframe\">\n",
              "  <thead>\n",
              "    <tr style=\"text-align: right;\">\n",
              "      <th></th>\n",
              "      <th>index</th>\n",
              "      <th>_type</th>\n",
              "      <th>url</th>\n",
              "      <th>date</th>\n",
              "      <th>content</th>\n",
              "      <th>renderedContent</th>\n",
              "      <th>id</th>\n",
              "      <th>user</th>\n",
              "      <th>replyCount</th>\n",
              "      <th>retweetCount</th>\n",
              "      <th>...</th>\n",
              "      <th>retweetedTweet</th>\n",
              "      <th>quotedTweet</th>\n",
              "      <th>inReplyToTweetId</th>\n",
              "      <th>inReplyToUser</th>\n",
              "      <th>mentionedUsers</th>\n",
              "      <th>coordinates</th>\n",
              "      <th>place</th>\n",
              "      <th>hashtags</th>\n",
              "      <th>cashtags</th>\n",
              "      <th>Searh</th>\n",
              "    </tr>\n",
              "  </thead>\n",
              "  <tbody>\n",
              "    <tr>\n",
              "      <th>0</th>\n",
              "      <td>0</td>\n",
              "      <td>snscrape.modules.twitter.Tweet</td>\n",
              "      <td>https://twitter.com/pat_ianni/status/150025982...</td>\n",
              "      <td>2022-03-05 23:59:50+00:00</td>\n",
              "      <td>JOE BIDEN SAYS HOW DO WE GET TO A PLACE WHERE ...</td>\n",
              "      <td>JOE BIDEN SAYS HOW DO WE GET TO A PLACE WHERE ...</td>\n",
              "      <td>1500259827154505728</td>\n",
              "      <td>{'_type': 'snscrape.modules.twitter.User', 'us...</td>\n",
              "      <td>14</td>\n",
              "      <td>26</td>\n",
              "      <td>...</td>\n",
              "      <td>NaN</td>\n",
              "      <td>NaN</td>\n",
              "      <td>NaN</td>\n",
              "      <td>NaN</td>\n",
              "      <td>NaN</td>\n",
              "      <td>NaN</td>\n",
              "      <td>NaN</td>\n",
              "      <td>NaN</td>\n",
              "      <td>NaN</td>\n",
              "      <td>Russia invade</td>\n",
              "    </tr>\n",
              "    <tr>\n",
              "      <th>1</th>\n",
              "      <td>1</td>\n",
              "      <td>snscrape.modules.twitter.Tweet</td>\n",
              "      <td>https://twitter.com/luxeprogressive/status/150...</td>\n",
              "      <td>2022-03-05 23:59:05+00:00</td>\n",
              "      <td>@ProfPaulPoast He doesn’t have to like it but ...</td>\n",
              "      <td>@ProfPaulPoast He doesn’t have to like it but ...</td>\n",
              "      <td>1500259636863246336</td>\n",
              "      <td>{'_type': 'snscrape.modules.twitter.User', 'us...</td>\n",
              "      <td>0</td>\n",
              "      <td>0</td>\n",
              "      <td>...</td>\n",
              "      <td>NaN</td>\n",
              "      <td>NaN</td>\n",
              "      <td>1.500259e+18</td>\n",
              "      <td>{'_type': 'snscrape.modules.twitter.User', 'us...</td>\n",
              "      <td>[{'_type': 'snscrape.modules.twitter.User', 'u...</td>\n",
              "      <td>NaN</td>\n",
              "      <td>NaN</td>\n",
              "      <td>NaN</td>\n",
              "      <td>NaN</td>\n",
              "      <td>Russia invade</td>\n",
              "    </tr>\n",
              "    <tr>\n",
              "      <th>2</th>\n",
              "      <td>2</td>\n",
              "      <td>snscrape.modules.twitter.Tweet</td>\n",
              "      <td>https://twitter.com/spielblog/status/150025947...</td>\n",
              "      <td>2022-03-05 23:58:26+00:00</td>\n",
              "      <td>@SemproniusT @RichardHanania And if NATO is th...</td>\n",
              "      <td>@SemproniusT @RichardHanania And if NATO is th...</td>\n",
              "      <td>1500259474040180738</td>\n",
              "      <td>{'_type': 'snscrape.modules.twitter.User', 'us...</td>\n",
              "      <td>1</td>\n",
              "      <td>0</td>\n",
              "      <td>...</td>\n",
              "      <td>NaN</td>\n",
              "      <td>NaN</td>\n",
              "      <td>1.500259e+18</td>\n",
              "      <td>{'_type': 'snscrape.modules.twitter.User', 'us...</td>\n",
              "      <td>[{'_type': 'snscrape.modules.twitter.User', 'u...</td>\n",
              "      <td>NaN</td>\n",
              "      <td>NaN</td>\n",
              "      <td>NaN</td>\n",
              "      <td>NaN</td>\n",
              "      <td>Russia invade</td>\n",
              "    </tr>\n",
              "    <tr>\n",
              "      <th>3</th>\n",
              "      <td>3</td>\n",
              "      <td>snscrape.modules.twitter.Tweet</td>\n",
              "      <td>https://twitter.com/JumboSlunce/status/1500259...</td>\n",
              "      <td>2022-03-05 23:58:20+00:00</td>\n",
              "      <td>@jakehase @Groutandgo @MysticAura_ @SkylarJord...</td>\n",
              "      <td>@jakehase @Groutandgo @MysticAura_ @SkylarJord...</td>\n",
              "      <td>1500259447742115841</td>\n",
              "      <td>{'_type': 'snscrape.modules.twitter.User', 'us...</td>\n",
              "      <td>1</td>\n",
              "      <td>0</td>\n",
              "      <td>...</td>\n",
              "      <td>NaN</td>\n",
              "      <td>NaN</td>\n",
              "      <td>1.500248e+18</td>\n",
              "      <td>{'_type': 'snscrape.modules.twitter.User', 'us...</td>\n",
              "      <td>[{'_type': 'snscrape.modules.twitter.User', 'u...</td>\n",
              "      <td>NaN</td>\n",
              "      <td>NaN</td>\n",
              "      <td>NaN</td>\n",
              "      <td>NaN</td>\n",
              "      <td>Russia invade</td>\n",
              "    </tr>\n",
              "    <tr>\n",
              "      <th>4</th>\n",
              "      <td>4</td>\n",
              "      <td>snscrape.modules.twitter.Tweet</td>\n",
              "      <td>https://twitter.com/ronanmcmanus/status/150025...</td>\n",
              "      <td>2022-03-05 23:58:17+00:00</td>\n",
              "      <td>@2_4_5T_2_4_D @carolecadwalla @estellecostanza...</td>\n",
              "      <td>@2_4_5T_2_4_D @carolecadwalla @estellecostanza...</td>\n",
              "      <td>1500259435142340608</td>\n",
              "      <td>{'_type': 'snscrape.modules.twitter.User', 'us...</td>\n",
              "      <td>0</td>\n",
              "      <td>0</td>\n",
              "      <td>...</td>\n",
              "      <td>NaN</td>\n",
              "      <td>NaN</td>\n",
              "      <td>1.500258e+18</td>\n",
              "      <td>{'_type': 'snscrape.modules.twitter.User', 'us...</td>\n",
              "      <td>[{'_type': 'snscrape.modules.twitter.User', 'u...</td>\n",
              "      <td>NaN</td>\n",
              "      <td>NaN</td>\n",
              "      <td>NaN</td>\n",
              "      <td>NaN</td>\n",
              "      <td>Russia invade</td>\n",
              "    </tr>\n",
              "  </tbody>\n",
              "</table>\n",
              "<p>5 rows × 30 columns</p>\n",
              "</div>\n",
              "      <button class=\"colab-df-convert\" onclick=\"convertToInteractive('df-7e964a10-949e-4027-ac31-eb7d79d32967')\"\n",
              "              title=\"Convert this dataframe to an interactive table.\"\n",
              "              style=\"display:none;\">\n",
              "        \n",
              "  <svg xmlns=\"http://www.w3.org/2000/svg\" height=\"24px\"viewBox=\"0 0 24 24\"\n",
              "       width=\"24px\">\n",
              "    <path d=\"M0 0h24v24H0V0z\" fill=\"none\"/>\n",
              "    <path d=\"M18.56 5.44l.94 2.06.94-2.06 2.06-.94-2.06-.94-.94-2.06-.94 2.06-2.06.94zm-11 1L8.5 8.5l.94-2.06 2.06-.94-2.06-.94L8.5 2.5l-.94 2.06-2.06.94zm10 10l.94 2.06.94-2.06 2.06-.94-2.06-.94-.94-2.06-.94 2.06-2.06.94z\"/><path d=\"M17.41 7.96l-1.37-1.37c-.4-.4-.92-.59-1.43-.59-.52 0-1.04.2-1.43.59L10.3 9.45l-7.72 7.72c-.78.78-.78 2.05 0 2.83L4 21.41c.39.39.9.59 1.41.59.51 0 1.02-.2 1.41-.59l7.78-7.78 2.81-2.81c.8-.78.8-2.07 0-2.86zM5.41 20L4 18.59l7.72-7.72 1.47 1.35L5.41 20z\"/>\n",
              "  </svg>\n",
              "      </button>\n",
              "      \n",
              "  <style>\n",
              "    .colab-df-container {\n",
              "      display:flex;\n",
              "      flex-wrap:wrap;\n",
              "      gap: 12px;\n",
              "    }\n",
              "\n",
              "    .colab-df-convert {\n",
              "      background-color: #E8F0FE;\n",
              "      border: none;\n",
              "      border-radius: 50%;\n",
              "      cursor: pointer;\n",
              "      display: none;\n",
              "      fill: #1967D2;\n",
              "      height: 32px;\n",
              "      padding: 0 0 0 0;\n",
              "      width: 32px;\n",
              "    }\n",
              "\n",
              "    .colab-df-convert:hover {\n",
              "      background-color: #E2EBFA;\n",
              "      box-shadow: 0px 1px 2px rgba(60, 64, 67, 0.3), 0px 1px 3px 1px rgba(60, 64, 67, 0.15);\n",
              "      fill: #174EA6;\n",
              "    }\n",
              "\n",
              "    [theme=dark] .colab-df-convert {\n",
              "      background-color: #3B4455;\n",
              "      fill: #D2E3FC;\n",
              "    }\n",
              "\n",
              "    [theme=dark] .colab-df-convert:hover {\n",
              "      background-color: #434B5C;\n",
              "      box-shadow: 0px 1px 3px 1px rgba(0, 0, 0, 0.15);\n",
              "      filter: drop-shadow(0px 1px 2px rgba(0, 0, 0, 0.3));\n",
              "      fill: #FFFFFF;\n",
              "    }\n",
              "  </style>\n",
              "\n",
              "      <script>\n",
              "        const buttonEl =\n",
              "          document.querySelector('#df-7e964a10-949e-4027-ac31-eb7d79d32967 button.colab-df-convert');\n",
              "        buttonEl.style.display =\n",
              "          google.colab.kernel.accessAllowed ? 'block' : 'none';\n",
              "\n",
              "        async function convertToInteractive(key) {\n",
              "          const element = document.querySelector('#df-7e964a10-949e-4027-ac31-eb7d79d32967');\n",
              "          const dataTable =\n",
              "            await google.colab.kernel.invokeFunction('convertToInteractive',\n",
              "                                                     [key], {});\n",
              "          if (!dataTable) return;\n",
              "\n",
              "          const docLinkHtml = 'Like what you see? Visit the ' +\n",
              "            '<a target=\"_blank\" href=https://colab.research.google.com/notebooks/data_table.ipynb>data table notebook</a>'\n",
              "            + ' to learn more about interactive tables.';\n",
              "          element.innerHTML = '';\n",
              "          dataTable['output_type'] = 'display_data';\n",
              "          await google.colab.output.renderOutput(dataTable, element);\n",
              "          const docLink = document.createElement('div');\n",
              "          docLink.innerHTML = docLinkHtml;\n",
              "          element.appendChild(docLink);\n",
              "        }\n",
              "      </script>\n",
              "    </div>\n",
              "  </div>\n",
              "  "
            ],
            "text/plain": [
              "   index                           _type  \\\n",
              "0      0  snscrape.modules.twitter.Tweet   \n",
              "1      1  snscrape.modules.twitter.Tweet   \n",
              "2      2  snscrape.modules.twitter.Tweet   \n",
              "3      3  snscrape.modules.twitter.Tweet   \n",
              "4      4  snscrape.modules.twitter.Tweet   \n",
              "\n",
              "                                                 url  \\\n",
              "0  https://twitter.com/pat_ianni/status/150025982...   \n",
              "1  https://twitter.com/luxeprogressive/status/150...   \n",
              "2  https://twitter.com/spielblog/status/150025947...   \n",
              "3  https://twitter.com/JumboSlunce/status/1500259...   \n",
              "4  https://twitter.com/ronanmcmanus/status/150025...   \n",
              "\n",
              "                        date  \\\n",
              "0  2022-03-05 23:59:50+00:00   \n",
              "1  2022-03-05 23:59:05+00:00   \n",
              "2  2022-03-05 23:58:26+00:00   \n",
              "3  2022-03-05 23:58:20+00:00   \n",
              "4  2022-03-05 23:58:17+00:00   \n",
              "\n",
              "                                             content  \\\n",
              "0  JOE BIDEN SAYS HOW DO WE GET TO A PLACE WHERE ...   \n",
              "1  @ProfPaulPoast He doesn’t have to like it but ...   \n",
              "2  @SemproniusT @RichardHanania And if NATO is th...   \n",
              "3  @jakehase @Groutandgo @MysticAura_ @SkylarJord...   \n",
              "4  @2_4_5T_2_4_D @carolecadwalla @estellecostanza...   \n",
              "\n",
              "                                     renderedContent                   id  \\\n",
              "0  JOE BIDEN SAYS HOW DO WE GET TO A PLACE WHERE ...  1500259827154505728   \n",
              "1  @ProfPaulPoast He doesn’t have to like it but ...  1500259636863246336   \n",
              "2  @SemproniusT @RichardHanania And if NATO is th...  1500259474040180738   \n",
              "3  @jakehase @Groutandgo @MysticAura_ @SkylarJord...  1500259447742115841   \n",
              "4  @2_4_5T_2_4_D @carolecadwalla @estellecostanza...  1500259435142340608   \n",
              "\n",
              "                                                user  replyCount  \\\n",
              "0  {'_type': 'snscrape.modules.twitter.User', 'us...          14   \n",
              "1  {'_type': 'snscrape.modules.twitter.User', 'us...           0   \n",
              "2  {'_type': 'snscrape.modules.twitter.User', 'us...           1   \n",
              "3  {'_type': 'snscrape.modules.twitter.User', 'us...           1   \n",
              "4  {'_type': 'snscrape.modules.twitter.User', 'us...           0   \n",
              "\n",
              "   retweetCount  ...  retweetedTweet  quotedTweet  inReplyToTweetId  \\\n",
              "0            26  ...             NaN          NaN               NaN   \n",
              "1             0  ...             NaN          NaN      1.500259e+18   \n",
              "2             0  ...             NaN          NaN      1.500259e+18   \n",
              "3             0  ...             NaN          NaN      1.500248e+18   \n",
              "4             0  ...             NaN          NaN      1.500258e+18   \n",
              "\n",
              "                                       inReplyToUser  \\\n",
              "0                                                NaN   \n",
              "1  {'_type': 'snscrape.modules.twitter.User', 'us...   \n",
              "2  {'_type': 'snscrape.modules.twitter.User', 'us...   \n",
              "3  {'_type': 'snscrape.modules.twitter.User', 'us...   \n",
              "4  {'_type': 'snscrape.modules.twitter.User', 'us...   \n",
              "\n",
              "                                      mentionedUsers coordinates place  \\\n",
              "0                                                NaN         NaN   NaN   \n",
              "1  [{'_type': 'snscrape.modules.twitter.User', 'u...         NaN   NaN   \n",
              "2  [{'_type': 'snscrape.modules.twitter.User', 'u...         NaN   NaN   \n",
              "3  [{'_type': 'snscrape.modules.twitter.User', 'u...         NaN   NaN   \n",
              "4  [{'_type': 'snscrape.modules.twitter.User', 'u...         NaN   NaN   \n",
              "\n",
              "  hashtags cashtags          Searh  \n",
              "0      NaN      NaN  Russia invade  \n",
              "1      NaN      NaN  Russia invade  \n",
              "2      NaN      NaN  Russia invade  \n",
              "3      NaN      NaN  Russia invade  \n",
              "4      NaN      NaN  Russia invade  \n",
              "\n",
              "[5 rows x 30 columns]"
            ]
          },
          "execution_count": 6,
          "metadata": {},
          "output_type": "execute_result"
        }
      ],
      "source": [
        "df.head()"
      ],
      "id": "0ec3aaa2"
    },
    {
      "cell_type": "markdown",
      "metadata": {
        "id": "Pl0HBHll5yRE"
      },
      "source": [
        "# Data Analysis"
      ],
      "id": "Pl0HBHll5yRE"
    },
    {
      "cell_type": "code",
      "execution_count": null,
      "metadata": {
        "colab": {
          "base_uri": "https://localhost:8080/"
        },
        "id": "b51276ed",
        "outputId": "c9e21612-753e-40cc-991b-c21d35db842d",
        "scrolled": true
      },
      "outputs": [
        {
          "data": {
            "text/plain": [
              "index                     0\n",
              "_type                     0\n",
              "url                       0\n",
              "date                      0\n",
              "content                   0\n",
              "renderedContent           0\n",
              "id                        0\n",
              "user                      0\n",
              "replyCount                0\n",
              "retweetCount              0\n",
              "likeCount                 0\n",
              "quoteCount                0\n",
              "conversationId            0\n",
              "lang                      0\n",
              "source                    0\n",
              "sourceUrl                 0\n",
              "sourceLabel               0\n",
              "outlinks             879335\n",
              "tcooutlinks          879335\n",
              "media               1164571\n",
              "retweetedTweet      1316605\n",
              "quotedTweet         1179985\n",
              "inReplyToTweetId     722546\n",
              "inReplyToUser        722546\n",
              "mentionedUsers       643642\n",
              "coordinates         1298997\n",
              "place               1298997\n",
              "hashtags             979343\n",
              "cashtags            1313780\n",
              "Searh                     0\n",
              "dtype: int64"
            ]
          },
          "execution_count": 7,
          "metadata": {},
          "output_type": "execute_result"
        }
      ],
      "source": [
        "df.isnull().sum()"
      ],
      "id": "b51276ed"
    },
    {
      "cell_type": "code",
      "execution_count": null,
      "metadata": {
        "colab": {
          "base_uri": "https://localhost:8080/"
        },
        "id": "81a2ab74",
        "outputId": "f7ffaaba-b63f-4ec7-d2ea-71b1e77c4b10"
      },
      "outputs": [
        {
          "data": {
            "text/plain": [
              "Index(['en', 'und', 'de', 'ja', 'pl', 'pt', 'fr', 'uk', 'it', 'es', 'tr', 'ru',\n",
              "       'da', 'nl', 'cs', 'in', 'hi', 'fi', 'et', 'sv', 'ar', 'tl', 'zh', 'ro',\n",
              "       'ca', 'lv', 'fa', 'el', 'vi', 'ko', 'no', 'th', 'ta', 'ht', 'sl', 'cy',\n",
              "       'lt', 'hu', 'bg', 'sr', 'ka', 'iw', 'ur', 'bn', 'eu', 'gu', 'kn', 'ml',\n",
              "       'te', 'pa', 'mr', 'ne', 'is', 'my', 'am', 'ps', 'sd', 'dv', 'si', 'km',\n",
              "       'or'],\n",
              "      dtype='object')"
            ]
          },
          "execution_count": 8,
          "metadata": {},
          "output_type": "execute_result"
        }
      ],
      "source": [
        "lang_count = df['lang'].value_counts()\n",
        "\n",
        "lang_count.index"
      ],
      "id": "81a2ab74"
    },
    {
      "cell_type": "code",
      "execution_count": null,
      "metadata": {
        "colab": {
          "base_uri": "https://localhost:8080/"
        },
        "id": "rk1tVYjHKlsj",
        "outputId": "2fce9314-d868-4960-c398-2660b22c31fe"
      },
      "outputs": [
        {
          "data": {
            "text/plain": [
              "en     1206985\n",
              "und      42960\n",
              "de       28269\n",
              "ja        4612\n",
              "pl        4100\n",
              "pt        3491\n",
              "fr        3257\n",
              "uk        2712\n",
              "it        2658\n",
              "es        2590\n",
              "Name: lang, dtype: int64"
            ]
          },
          "execution_count": 9,
          "metadata": {},
          "output_type": "execute_result"
        }
      ],
      "source": [
        "lang_count[:10]"
      ],
      "id": "rk1tVYjHKlsj"
    },
    {
      "cell_type": "code",
      "execution_count": null,
      "metadata": {
        "id": "a10f7844"
      },
      "outputs": [],
      "source": [
        "hashtag_list = []\n",
        "\n",
        "def get_hashtag(tweet):\n",
        "    hashtags = re.findall(r\"#(\\w+)\", tweet)\n",
        "    hashtag_list.extend(hashtags)"
      ],
      "id": "a10f7844"
    },
    {
      "cell_type": "code",
      "execution_count": null,
      "metadata": {
        "colab": {
          "base_uri": "https://localhost:8080/"
        },
        "id": "0c169b09",
        "outputId": "9bb6084e-dcce-47cc-f76b-001ff00eeb82"
      },
      "outputs": [
        {
          "name": "stdout",
          "output_type": "stream",
          "text": [
            "total unique hashtags:  973564\n",
            "['Britain', 'Russia', 'Iraq', 'Ukraine', 'NATO', 'WMD', 'Lies', 'Russians', 'Putin', 'Ukraine', 'Repubicans', 'InformationInvasion', 'RussianInfoInvade', 'aeroflot', 'auspol', 'UkraineRussianWar', 'BidenWorstPresidentEver', 'BidenIsAFailure', 'BidensWar', 'WhereWasLewisHamiltonWhen', 'RussianUkrainianWar', 'Putin', 'Russia', 'Ukraine', 'UK', 'Russia', 'Putin', 'Ukraine', 'Putin', 'Biden', 'Ukraine', 'russia', 'ukraine', 'Russian', 'Ukraine', 'Putin', 'MentalHealthMatters', 'dementia', 'StopPutinNOW', 'IStandWithUkraine', 'SlavaUkraini', 'Ukraine', 'Russia', 'BidenIsALaughingstock', 'SaveUkraine', 'PutinWarCrimes', 'RussianUkrainianWar', 'RussianUkrainianWar', 'Ukraine']\n"
          ]
        }
      ],
      "source": [
        "for tweet in df['content']:\n",
        "    get_hashtag(tweet)\n",
        "\n",
        "print(\"total unique hashtags: \", len(hashtag_list))\n",
        "print(hashtag_list[1:50])\n",
        "\n",
        "hashtag_set = set(hashtag_list)"
      ],
      "id": "0c169b09"
    },
    {
      "cell_type": "code",
      "execution_count": null,
      "metadata": {
        "id": "4ef0dc62"
      },
      "outputs": [],
      "source": [
        "def hashtag_freq(hashtag_list):\n",
        "    a = nltk.FreqDist(hashtag_list)\n",
        "    hash_df = pd.DataFrame({'Hashtag': list(a.keys()), \n",
        "                            'Frequency': list(a.values())\n",
        "                           })\n",
        "    \n",
        "    hash_df = hash_df.nlargest(columns='Frequency', n = 25)\n",
        "    \n",
        "    return hash_df\n",
        "    "
      ],
      "id": "4ef0dc62"
    },
    {
      "cell_type": "code",
      "execution_count": null,
      "metadata": {
        "colab": {
          "base_uri": "https://localhost:8080/",
          "height": 833
        },
        "id": "f218fa42",
        "outputId": "6b1fb45d-2182-4a45-e7a6-eb0df982e402",
        "scrolled": true
      },
      "outputs": [
        {
          "data": {
            "text/html": [
              "\n",
              "  <div id=\"df-796a0782-af9e-487f-ba52-93973f9e4691\">\n",
              "    <div class=\"colab-df-container\">\n",
              "      <div>\n",
              "<style scoped>\n",
              "    .dataframe tbody tr th:only-of-type {\n",
              "        vertical-align: middle;\n",
              "    }\n",
              "\n",
              "    .dataframe tbody tr th {\n",
              "        vertical-align: top;\n",
              "    }\n",
              "\n",
              "    .dataframe thead th {\n",
              "        text-align: right;\n",
              "    }\n",
              "</style>\n",
              "<table border=\"1\" class=\"dataframe\">\n",
              "  <thead>\n",
              "    <tr style=\"text-align: right;\">\n",
              "      <th></th>\n",
              "      <th>Hashtag</th>\n",
              "      <th>Frequency</th>\n",
              "    </tr>\n",
              "  </thead>\n",
              "  <tbody>\n",
              "    <tr>\n",
              "      <th>4</th>\n",
              "      <td>Ukraine</td>\n",
              "      <td>130203</td>\n",
              "    </tr>\n",
              "    <tr>\n",
              "      <th>66</th>\n",
              "      <td>StandWithUkraine</td>\n",
              "      <td>120481</td>\n",
              "    </tr>\n",
              "    <tr>\n",
              "      <th>2</th>\n",
              "      <td>Russia</td>\n",
              "      <td>59859</td>\n",
              "    </tr>\n",
              "    <tr>\n",
              "      <th>5</th>\n",
              "      <td>NATO</td>\n",
              "      <td>35721</td>\n",
              "    </tr>\n",
              "    <tr>\n",
              "      <th>9</th>\n",
              "      <td>Putin</td>\n",
              "      <td>20038</td>\n",
              "    </tr>\n",
              "    <tr>\n",
              "      <th>25</th>\n",
              "      <td>Russian</td>\n",
              "      <td>13980</td>\n",
              "    </tr>\n",
              "    <tr>\n",
              "      <th>24</th>\n",
              "      <td>ukraine</td>\n",
              "      <td>9504</td>\n",
              "    </tr>\n",
              "    <tr>\n",
              "      <th>359</th>\n",
              "      <td>UkraineCrisis</td>\n",
              "      <td>7549</td>\n",
              "    </tr>\n",
              "    <tr>\n",
              "      <th>279</th>\n",
              "      <td>UkraineWar</td>\n",
              "      <td>7052</td>\n",
              "    </tr>\n",
              "    <tr>\n",
              "      <th>0</th>\n",
              "      <td>USA</td>\n",
              "      <td>6834</td>\n",
              "    </tr>\n",
              "    <tr>\n",
              "      <th>133</th>\n",
              "      <td>US</td>\n",
              "      <td>6250</td>\n",
              "    </tr>\n",
              "    <tr>\n",
              "      <th>70</th>\n",
              "      <td>UkraineRussiaWar</td>\n",
              "      <td>6230</td>\n",
              "    </tr>\n",
              "    <tr>\n",
              "      <th>204</th>\n",
              "      <td>RussiaUkraine</td>\n",
              "      <td>5724</td>\n",
              "    </tr>\n",
              "    <tr>\n",
              "      <th>22</th>\n",
              "      <td>Biden</td>\n",
              "      <td>5656</td>\n",
              "    </tr>\n",
              "    <tr>\n",
              "      <th>23</th>\n",
              "      <td>russia</td>\n",
              "      <td>5291</td>\n",
              "    </tr>\n",
              "    <tr>\n",
              "      <th>358</th>\n",
              "      <td>UkraineConflict</td>\n",
              "      <td>5261</td>\n",
              "    </tr>\n",
              "    <tr>\n",
              "      <th>68</th>\n",
              "      <td>war</td>\n",
              "      <td>5024</td>\n",
              "    </tr>\n",
              "    <tr>\n",
              "      <th>285</th>\n",
              "      <td>Europe</td>\n",
              "      <td>4834</td>\n",
              "    </tr>\n",
              "    <tr>\n",
              "      <th>190</th>\n",
              "      <td>StopPutin</td>\n",
              "      <td>4817</td>\n",
              "    </tr>\n",
              "    <tr>\n",
              "      <th>103</th>\n",
              "      <td>Belarus</td>\n",
              "      <td>4765</td>\n",
              "    </tr>\n",
              "    <tr>\n",
              "      <th>100</th>\n",
              "      <td>UkraineInvasion</td>\n",
              "      <td>4720</td>\n",
              "    </tr>\n",
              "    <tr>\n",
              "      <th>55</th>\n",
              "      <td>Kyiv</td>\n",
              "      <td>4485</td>\n",
              "    </tr>\n",
              "    <tr>\n",
              "      <th>289</th>\n",
              "      <td>standwithukraine</td>\n",
              "      <td>4406</td>\n",
              "    </tr>\n",
              "    <tr>\n",
              "      <th>80</th>\n",
              "      <td>EU</td>\n",
              "      <td>4218</td>\n",
              "    </tr>\n",
              "    <tr>\n",
              "      <th>57</th>\n",
              "      <td>BREAKING</td>\n",
              "      <td>3986</td>\n",
              "    </tr>\n",
              "  </tbody>\n",
              "</table>\n",
              "</div>\n",
              "      <button class=\"colab-df-convert\" onclick=\"convertToInteractive('df-796a0782-af9e-487f-ba52-93973f9e4691')\"\n",
              "              title=\"Convert this dataframe to an interactive table.\"\n",
              "              style=\"display:none;\">\n",
              "        \n",
              "  <svg xmlns=\"http://www.w3.org/2000/svg\" height=\"24px\"viewBox=\"0 0 24 24\"\n",
              "       width=\"24px\">\n",
              "    <path d=\"M0 0h24v24H0V0z\" fill=\"none\"/>\n",
              "    <path d=\"M18.56 5.44l.94 2.06.94-2.06 2.06-.94-2.06-.94-.94-2.06-.94 2.06-2.06.94zm-11 1L8.5 8.5l.94-2.06 2.06-.94-2.06-.94L8.5 2.5l-.94 2.06-2.06.94zm10 10l.94 2.06.94-2.06 2.06-.94-2.06-.94-.94-2.06-.94 2.06-2.06.94z\"/><path d=\"M17.41 7.96l-1.37-1.37c-.4-.4-.92-.59-1.43-.59-.52 0-1.04.2-1.43.59L10.3 9.45l-7.72 7.72c-.78.78-.78 2.05 0 2.83L4 21.41c.39.39.9.59 1.41.59.51 0 1.02-.2 1.41-.59l7.78-7.78 2.81-2.81c.8-.78.8-2.07 0-2.86zM5.41 20L4 18.59l7.72-7.72 1.47 1.35L5.41 20z\"/>\n",
              "  </svg>\n",
              "      </button>\n",
              "      \n",
              "  <style>\n",
              "    .colab-df-container {\n",
              "      display:flex;\n",
              "      flex-wrap:wrap;\n",
              "      gap: 12px;\n",
              "    }\n",
              "\n",
              "    .colab-df-convert {\n",
              "      background-color: #E8F0FE;\n",
              "      border: none;\n",
              "      border-radius: 50%;\n",
              "      cursor: pointer;\n",
              "      display: none;\n",
              "      fill: #1967D2;\n",
              "      height: 32px;\n",
              "      padding: 0 0 0 0;\n",
              "      width: 32px;\n",
              "    }\n",
              "\n",
              "    .colab-df-convert:hover {\n",
              "      background-color: #E2EBFA;\n",
              "      box-shadow: 0px 1px 2px rgba(60, 64, 67, 0.3), 0px 1px 3px 1px rgba(60, 64, 67, 0.15);\n",
              "      fill: #174EA6;\n",
              "    }\n",
              "\n",
              "    [theme=dark] .colab-df-convert {\n",
              "      background-color: #3B4455;\n",
              "      fill: #D2E3FC;\n",
              "    }\n",
              "\n",
              "    [theme=dark] .colab-df-convert:hover {\n",
              "      background-color: #434B5C;\n",
              "      box-shadow: 0px 1px 3px 1px rgba(0, 0, 0, 0.15);\n",
              "      filter: drop-shadow(0px 1px 2px rgba(0, 0, 0, 0.3));\n",
              "      fill: #FFFFFF;\n",
              "    }\n",
              "  </style>\n",
              "\n",
              "      <script>\n",
              "        const buttonEl =\n",
              "          document.querySelector('#df-796a0782-af9e-487f-ba52-93973f9e4691 button.colab-df-convert');\n",
              "        buttonEl.style.display =\n",
              "          google.colab.kernel.accessAllowed ? 'block' : 'none';\n",
              "\n",
              "        async function convertToInteractive(key) {\n",
              "          const element = document.querySelector('#df-796a0782-af9e-487f-ba52-93973f9e4691');\n",
              "          const dataTable =\n",
              "            await google.colab.kernel.invokeFunction('convertToInteractive',\n",
              "                                                     [key], {});\n",
              "          if (!dataTable) return;\n",
              "\n",
              "          const docLinkHtml = 'Like what you see? Visit the ' +\n",
              "            '<a target=\"_blank\" href=https://colab.research.google.com/notebooks/data_table.ipynb>data table notebook</a>'\n",
              "            + ' to learn more about interactive tables.';\n",
              "          element.innerHTML = '';\n",
              "          dataTable['output_type'] = 'display_data';\n",
              "          await google.colab.output.renderOutput(dataTable, element);\n",
              "          const docLink = document.createElement('div');\n",
              "          docLink.innerHTML = docLinkHtml;\n",
              "          element.appendChild(docLink);\n",
              "        }\n",
              "      </script>\n",
              "    </div>\n",
              "  </div>\n",
              "  "
            ],
            "text/plain": [
              "              Hashtag  Frequency\n",
              "4             Ukraine     130203\n",
              "66   StandWithUkraine     120481\n",
              "2              Russia      59859\n",
              "5                NATO      35721\n",
              "9               Putin      20038\n",
              "25            Russian      13980\n",
              "24            ukraine       9504\n",
              "359     UkraineCrisis       7549\n",
              "279        UkraineWar       7052\n",
              "0                 USA       6834\n",
              "133                US       6250\n",
              "70   UkraineRussiaWar       6230\n",
              "204     RussiaUkraine       5724\n",
              "22              Biden       5656\n",
              "23             russia       5291\n",
              "358   UkraineConflict       5261\n",
              "68                war       5024\n",
              "285            Europe       4834\n",
              "190         StopPutin       4817\n",
              "103           Belarus       4765\n",
              "100   UkraineInvasion       4720\n",
              "55               Kyiv       4485\n",
              "289  standwithukraine       4406\n",
              "80                 EU       4218\n",
              "57           BREAKING       3986"
            ]
          },
          "execution_count": 13,
          "metadata": {},
          "output_type": "execute_result"
        }
      ],
      "source": [
        "hash_df = hashtag_freq(hashtag_list)\n",
        "\n",
        "hash_df"
      ],
      "id": "f218fa42"
    },
    {
      "cell_type": "markdown",
      "metadata": {
        "id": "l_pUSStB6n4Y"
      },
      "source": [
        "# Data Preprocessing"
      ],
      "id": "l_pUSStB6n4Y"
    },
    {
      "cell_type": "code",
      "execution_count": 8,
      "metadata": {
        "colab": {
          "base_uri": "https://localhost:8080/"
        },
        "id": "94d70868",
        "outputId": "3f1b548c-608a-4d61-dedf-ffcbc3cf86b7",
        "scrolled": true
      },
      "outputs": [
        {
          "output_type": "stream",
          "name": "stderr",
          "text": [
            "[nltk_data] Downloading package stopwords to /root/nltk_data...\n",
            "[nltk_data]   Unzipping corpora/stopwords.zip.\n"
          ]
        }
      ],
      "source": [
        "from nltk.corpus import stopwords\n",
        "nltk.download('stopwords')\n",
        "\n",
        "stopwords = stopwords.words('english')"
      ],
      "id": "94d70868"
    },
    {
      "cell_type": "code",
      "execution_count": 9,
      "metadata": {
        "id": "b81aa9ea"
      },
      "outputs": [],
      "source": [
        "stemmer = nltk.PorterStemmer()"
      ],
      "id": "b81aa9ea"
    },
    {
      "cell_type": "code",
      "execution_count": 10,
      "metadata": {
        "colab": {
          "base_uri": "https://localhost:8080/"
        },
        "id": "f3d8cea3",
        "outputId": "26413a0c-1071-4e0c-8369-60a6a7a49455",
        "scrolled": true
      },
      "outputs": [
        {
          "output_type": "stream",
          "name": "stderr",
          "text": [
            "[nltk_data] Downloading package wordnet to /root/nltk_data...\n",
            "[nltk_data] Downloading package omw-1.4 to /root/nltk_data...\n"
          ]
        }
      ],
      "source": [
        "from nltk.stem import WordNetLemmatizer\n",
        "nltk.download('wordnet')\n",
        "nltk.download('omw-1.4')\n",
        "\n",
        "lemmatizer = WordNetLemmatizer()"
      ],
      "id": "f3d8cea3"
    },
    {
      "cell_type": "code",
      "execution_count": 11,
      "metadata": {
        "id": "b4d57aa5"
      },
      "outputs": [],
      "source": [
        "def preprocess(text):\n",
        "    text = str(text).lower()\n",
        "    text = re.sub('https?://\\S+|www\\.\\S+', '', text)\n",
        "    text = re.sub('\\n|\\t', '', text)\n",
        "    text = re.sub('\\d', '', text)\n",
        "    text = re.sub(r'[^\\w\\s]', ' ', text)\n",
        "    text = [word for word in text.split() if word not in stopwords]\n",
        "    text = [stemmer.stem(word) for word in text]\n",
        "    \n",
        "    text = \" \".join(text)\n",
        "    \n",
        "    return text\n",
        "    "
      ],
      "id": "b4d57aa5"
    },
    {
      "cell_type": "code",
      "execution_count": null,
      "metadata": {
        "id": "821bcadd",
        "scrolled": true
      },
      "outputs": [],
      "source": [
        "df['clean_tweet'] = df['content'].apply(preprocess)"
      ],
      "id": "821bcadd"
    },
    {
      "cell_type": "code",
      "execution_count": 13,
      "metadata": {
        "colab": {
          "base_uri": "https://localhost:8080/"
        },
        "id": "0e8584c4",
        "outputId": "5f20d461-96ae-429a-d4bb-e70c17880b40"
      },
      "outputs": [
        {
          "metadata": {
            "tags": null
          },
          "name": "stdout",
          "output_type": "stream",
          "text": [
            "Original Tweets: \n",
            "197\n",
            "30\n",
            "Preprocessed Tweets: \n",
            "119\n",
            "18\n"
          ]
        }
      ],
      "source": [
        "avg_tweet_len = df['content'].str.len().mean()\n",
        "avg_word_count = df['content'].str.split().str.len().mean()\n",
        "\n",
        "print('Original Tweets: ')\n",
        "print(int(avg_tweet_len))\n",
        "print(int(avg_word_count))\n",
        "\n",
        "\n",
        "avg_clean_tweet_len = df['clean_tweet'].str.len().mean()\n",
        "avg_clean_word_count = df['clean_tweet'].str.split().str.len().mean()\n",
        "\n",
        "print('Preprocessed Tweets: ')\n",
        "print(int(avg_clean_tweet_len))\n",
        "print(int(avg_clean_word_count))\n"
      ],
      "id": "0e8584c4"
    },
    {
      "cell_type": "code",
      "execution_count": 14,
      "metadata": {
        "id": "338643f4"
      },
      "outputs": [],
      "source": [
        "from textblob import TextBlob"
      ],
      "id": "338643f4"
    },
    {
      "cell_type": "code",
      "execution_count": 15,
      "metadata": {
        "id": "0ee81451"
      },
      "outputs": [],
      "source": [
        "def sentiment_analysis(text):\n",
        "    analysis = TextBlob(text)\n",
        "    if (analysis.sentiment.polarity > 0):\n",
        "        return 1\n",
        "    else:\n",
        "        return 0\n",
        "        "
      ],
      "id": "0ee81451"
    },
    {
      "cell_type": "code",
      "execution_count": 16,
      "metadata": {
        "id": "8ed0c923"
      },
      "outputs": [],
      "source": [
        "df['sentiment'] = df['clean_tweet'].apply(lambda x : sentiment_analysis(x))"
      ],
      "id": "8ed0c923"
    },
    {
      "cell_type": "code",
      "execution_count": null,
      "metadata": {
        "id": "0305c468"
      },
      "outputs": [],
      "source": [
        "data = df[['clean_tweet', 'sentiment', 'retweetCount', 'likeCount']]"
      ],
      "id": "0305c468"
    },
    {
      "cell_type": "code",
      "execution_count": null,
      "metadata": {
        "colab": {
          "base_uri": "https://localhost:8080/",
          "height": 206
        },
        "id": "tV2hDlvsWcCS",
        "outputId": "17a20827-820a-48ab-fde2-33ad82f14c8c"
      },
      "outputs": [
        {
          "data": {
            "text/html": [
              "\n",
              "  <div id=\"df-ff00b6fa-3ffb-4216-a966-4b1aa42d2856\">\n",
              "    <div class=\"colab-df-container\">\n",
              "      <div>\n",
              "<style scoped>\n",
              "    .dataframe tbody tr th:only-of-type {\n",
              "        vertical-align: middle;\n",
              "    }\n",
              "\n",
              "    .dataframe tbody tr th {\n",
              "        vertical-align: top;\n",
              "    }\n",
              "\n",
              "    .dataframe thead th {\n",
              "        text-align: right;\n",
              "    }\n",
              "</style>\n",
              "<table border=\"1\" class=\"dataframe\">\n",
              "  <thead>\n",
              "    <tr style=\"text-align: right;\">\n",
              "      <th></th>\n",
              "      <th>clean_tweet</th>\n",
              "      <th>sentiment</th>\n",
              "      <th>retweetCount</th>\n",
              "      <th>likeCount</th>\n",
              "    </tr>\n",
              "  </thead>\n",
              "  <tbody>\n",
              "    <tr>\n",
              "      <th>0</th>\n",
              "      <td>joe biden say get place putin decid invad russ...</td>\n",
              "      <td>0</td>\n",
              "      <td>26</td>\n",
              "      <td>99</td>\n",
              "    </tr>\n",
              "    <tr>\n",
              "      <th>1</th>\n",
              "      <td>profpaulpoast like countri sovereign proven va...</td>\n",
              "      <td>0</td>\n",
              "      <td>0</td>\n",
              "      <td>2</td>\n",
              "    </tr>\n",
              "    <tr>\n",
              "      <th>2</th>\n",
              "      <td>semproniust richardhanania nato aggressor mayb...</td>\n",
              "      <td>1</td>\n",
              "      <td>0</td>\n",
              "      <td>0</td>\n",
              "    </tr>\n",
              "    <tr>\n",
              "      <th>3</th>\n",
              "      <td>jakehas groutandgo mysticaura_ skylarjordan al...</td>\n",
              "      <td>0</td>\n",
              "      <td>0</td>\n",
              "      <td>0</td>\n",
              "    </tr>\n",
              "    <tr>\n",
              "      <th>4</th>\n",
              "      <td>__t___d carolecadwalla estellecostanza point u...</td>\n",
              "      <td>0</td>\n",
              "      <td>0</td>\n",
              "      <td>0</td>\n",
              "    </tr>\n",
              "  </tbody>\n",
              "</table>\n",
              "</div>\n",
              "      <button class=\"colab-df-convert\" onclick=\"convertToInteractive('df-ff00b6fa-3ffb-4216-a966-4b1aa42d2856')\"\n",
              "              title=\"Convert this dataframe to an interactive table.\"\n",
              "              style=\"display:none;\">\n",
              "        \n",
              "  <svg xmlns=\"http://www.w3.org/2000/svg\" height=\"24px\"viewBox=\"0 0 24 24\"\n",
              "       width=\"24px\">\n",
              "    <path d=\"M0 0h24v24H0V0z\" fill=\"none\"/>\n",
              "    <path d=\"M18.56 5.44l.94 2.06.94-2.06 2.06-.94-2.06-.94-.94-2.06-.94 2.06-2.06.94zm-11 1L8.5 8.5l.94-2.06 2.06-.94-2.06-.94L8.5 2.5l-.94 2.06-2.06.94zm10 10l.94 2.06.94-2.06 2.06-.94-2.06-.94-.94-2.06-.94 2.06-2.06.94z\"/><path d=\"M17.41 7.96l-1.37-1.37c-.4-.4-.92-.59-1.43-.59-.52 0-1.04.2-1.43.59L10.3 9.45l-7.72 7.72c-.78.78-.78 2.05 0 2.83L4 21.41c.39.39.9.59 1.41.59.51 0 1.02-.2 1.41-.59l7.78-7.78 2.81-2.81c.8-.78.8-2.07 0-2.86zM5.41 20L4 18.59l7.72-7.72 1.47 1.35L5.41 20z\"/>\n",
              "  </svg>\n",
              "      </button>\n",
              "      \n",
              "  <style>\n",
              "    .colab-df-container {\n",
              "      display:flex;\n",
              "      flex-wrap:wrap;\n",
              "      gap: 12px;\n",
              "    }\n",
              "\n",
              "    .colab-df-convert {\n",
              "      background-color: #E8F0FE;\n",
              "      border: none;\n",
              "      border-radius: 50%;\n",
              "      cursor: pointer;\n",
              "      display: none;\n",
              "      fill: #1967D2;\n",
              "      height: 32px;\n",
              "      padding: 0 0 0 0;\n",
              "      width: 32px;\n",
              "    }\n",
              "\n",
              "    .colab-df-convert:hover {\n",
              "      background-color: #E2EBFA;\n",
              "      box-shadow: 0px 1px 2px rgba(60, 64, 67, 0.3), 0px 1px 3px 1px rgba(60, 64, 67, 0.15);\n",
              "      fill: #174EA6;\n",
              "    }\n",
              "\n",
              "    [theme=dark] .colab-df-convert {\n",
              "      background-color: #3B4455;\n",
              "      fill: #D2E3FC;\n",
              "    }\n",
              "\n",
              "    [theme=dark] .colab-df-convert:hover {\n",
              "      background-color: #434B5C;\n",
              "      box-shadow: 0px 1px 3px 1px rgba(0, 0, 0, 0.15);\n",
              "      filter: drop-shadow(0px 1px 2px rgba(0, 0, 0, 0.3));\n",
              "      fill: #FFFFFF;\n",
              "    }\n",
              "  </style>\n",
              "\n",
              "      <script>\n",
              "        const buttonEl =\n",
              "          document.querySelector('#df-ff00b6fa-3ffb-4216-a966-4b1aa42d2856 button.colab-df-convert');\n",
              "        buttonEl.style.display =\n",
              "          google.colab.kernel.accessAllowed ? 'block' : 'none';\n",
              "\n",
              "        async function convertToInteractive(key) {\n",
              "          const element = document.querySelector('#df-ff00b6fa-3ffb-4216-a966-4b1aa42d2856');\n",
              "          const dataTable =\n",
              "            await google.colab.kernel.invokeFunction('convertToInteractive',\n",
              "                                                     [key], {});\n",
              "          if (!dataTable) return;\n",
              "\n",
              "          const docLinkHtml = 'Like what you see? Visit the ' +\n",
              "            '<a target=\"_blank\" href=https://colab.research.google.com/notebooks/data_table.ipynb>data table notebook</a>'\n",
              "            + ' to learn more about interactive tables.';\n",
              "          element.innerHTML = '';\n",
              "          dataTable['output_type'] = 'display_data';\n",
              "          await google.colab.output.renderOutput(dataTable, element);\n",
              "          const docLink = document.createElement('div');\n",
              "          docLink.innerHTML = docLinkHtml;\n",
              "          element.appendChild(docLink);\n",
              "        }\n",
              "      </script>\n",
              "    </div>\n",
              "  </div>\n",
              "  "
            ],
            "text/plain": [
              "                                         clean_tweet  sentiment  retweetCount  \\\n",
              "0  joe biden say get place putin decid invad russ...          0            26   \n",
              "1  profpaulpoast like countri sovereign proven va...          0             0   \n",
              "2  semproniust richardhanania nato aggressor mayb...          1             0   \n",
              "3  jakehas groutandgo mysticaura_ skylarjordan al...          0             0   \n",
              "4  __t___d carolecadwalla estellecostanza point u...          0             0   \n",
              "\n",
              "   likeCount  \n",
              "0         99  \n",
              "1          2  \n",
              "2          0  \n",
              "3          0  \n",
              "4          0  "
            ]
          },
          "execution_count": 24,
          "metadata": {},
          "output_type": "execute_result"
        }
      ],
      "source": [
        "data.head()"
      ],
      "id": "tV2hDlvsWcCS"
    },
    {
      "cell_type": "markdown",
      "metadata": {
        "id": "EgACwzAA5sPI"
      },
      "source": [
        "# Data Visualization"
      ],
      "id": "EgACwzAA5sPI"
    },
    {
      "cell_type": "code",
      "execution_count": null,
      "metadata": {
        "colab": {
          "base_uri": "https://localhost:8080/",
          "height": 469
        },
        "id": "ZGQahTV05qRn",
        "outputId": "8a9865f7-6af2-479c-d348-60f18941b046"
      },
      "outputs": [
        {
          "data": {
            "image/png": "[encoded data removed]",
            "text/plain": [
              "<Figure size 720x432 with 1 Axes>"
            ]
          },
          "metadata": {},
          "output_type": "display_data"
        }
      ],
      "source": [
        "fig = plt.figure(figsize=(10, 6))\n",
        "\n",
        "plt.bar(hash_df['Hashtag'], hash_df['Frequency'], width=0.4)\n",
        "\n",
        "plt.xlabel(\"Top 25 Hashtags\")\n",
        "plt.xticks(rotation=90)\n",
        "plt.ylabel(\"Frequency\")\n",
        "plt.show()\n"
      ],
      "id": "ZGQahTV05qRn"
    },
    {
      "cell_type": "code",
      "execution_count": null,
      "metadata": {
        "colab": {
          "base_uri": "https://localhost:8080/"
        },
        "id": "b9d7cfc6",
        "outputId": "44d7b3d5-2bc7-414f-c092-40c8b450437b"
      },
      "outputs": [
        {
          "data": {
            "text/plain": [
              "158016172"
            ]
          },
          "execution_count": 26,
          "metadata": {},
          "output_type": "execute_result"
        }
      ],
      "source": [
        "text = \" \".join(text for text in data['clean_tweet'])\n",
        "\n",
        "len(text) "
      ],
      "id": "b9d7cfc6"
    },
    {
      "cell_type": "code",
      "execution_count": null,
      "metadata": {
        "colab": {
          "base_uri": "https://localhost:8080/",
          "height": 219
        },
        "id": "092255aa",
        "outputId": "e37f7733-a361-480e-ff36-d4f41ba8fb82"
      },
      "outputs": [
        {
          "data": {
            "image/png": "[encoded data removed]",
            "text/plain": [
              "<Figure size 432x288 with 1 Axes>"
            ]
          },
          "metadata": {},
          "output_type": "display_data"
        }
      ],
      "source": [
        "from wordcloud import WordCloud\n",
        "\n",
        "wc = WordCloud(max_font_size=100,  max_words = 50,collocations=False).generate(text)\n",
        "\n",
        "plt.imshow(wc, interpolation='bilinear')\n",
        "plt.show()\n"
      ],
      "id": "092255aa"
    },
    {
      "cell_type": "code",
      "execution_count": null,
      "metadata": {
        "colab": {
          "base_uri": "https://localhost:8080/",
          "height": 206
        },
        "id": "WtiQWvUjMT_u",
        "outputId": "844b5d83-14bd-4348-ae21-f692276d64d8"
      },
      "outputs": [
        {
          "data": {
            "text/html": [
              "\n",
              "  <div id=\"df-70eb825c-9cdb-490e-892f-9b56fab9f9e9\">\n",
              "    <div class=\"colab-df-container\">\n",
              "      <div>\n",
              "<style scoped>\n",
              "    .dataframe tbody tr th:only-of-type {\n",
              "        vertical-align: middle;\n",
              "    }\n",
              "\n",
              "    .dataframe tbody tr th {\n",
              "        vertical-align: top;\n",
              "    }\n",
              "\n",
              "    .dataframe thead th {\n",
              "        text-align: right;\n",
              "    }\n",
              "</style>\n",
              "<table border=\"1\" class=\"dataframe\">\n",
              "  <thead>\n",
              "    <tr style=\"text-align: right;\">\n",
              "      <th></th>\n",
              "      <th>clean_tweet</th>\n",
              "      <th>sentiment</th>\n",
              "      <th>retweetCount</th>\n",
              "      <th>likeCount</th>\n",
              "    </tr>\n",
              "  </thead>\n",
              "  <tbody>\n",
              "    <tr>\n",
              "      <th>2</th>\n",
              "      <td>semproniust richardhanania nato aggressor mayb...</td>\n",
              "      <td>1</td>\n",
              "      <td>0</td>\n",
              "      <td>0</td>\n",
              "    </tr>\n",
              "    <tr>\n",
              "      <th>8</th>\n",
              "      <td>russianembassi olafscholz kremlinrussia_ mfa_r...</td>\n",
              "      <td>1</td>\n",
              "      <td>0</td>\n",
              "      <td>0</td>\n",
              "    </tr>\n",
              "    <tr>\n",
              "      <th>12</th>\n",
              "      <td>neillowenth putin probabl hope trump got elect...</td>\n",
              "      <td>1</td>\n",
              "      <td>0</td>\n",
              "      <td>1</td>\n",
              "    </tr>\n",
              "    <tr>\n",
              "      <th>14</th>\n",
              "      <td>resist laurenboebert brilliant ukrain countri ...</td>\n",
              "      <td>1</td>\n",
              "      <td>0</td>\n",
              "      <td>3</td>\n",
              "    </tr>\n",
              "    <tr>\n",
              "      <th>19</th>\n",
              "      <td>myaccou ohnoezzz jaylyall_r mani say napoleon ...</td>\n",
              "      <td>1</td>\n",
              "      <td>0</td>\n",
              "      <td>1</td>\n",
              "    </tr>\n",
              "  </tbody>\n",
              "</table>\n",
              "</div>\n",
              "      <button class=\"colab-df-convert\" onclick=\"convertToInteractive('df-70eb825c-9cdb-490e-892f-9b56fab9f9e9')\"\n",
              "              title=\"Convert this dataframe to an interactive table.\"\n",
              "              style=\"display:none;\">\n",
              "        \n",
              "  <svg xmlns=\"http://www.w3.org/2000/svg\" height=\"24px\"viewBox=\"0 0 24 24\"\n",
              "       width=\"24px\">\n",
              "    <path d=\"M0 0h24v24H0V0z\" fill=\"none\"/>\n",
              "    <path d=\"M18.56 5.44l.94 2.06.94-2.06 2.06-.94-2.06-.94-.94-2.06-.94 2.06-2.06.94zm-11 1L8.5 8.5l.94-2.06 2.06-.94-2.06-.94L8.5 2.5l-.94 2.06-2.06.94zm10 10l.94 2.06.94-2.06 2.06-.94-2.06-.94-.94-2.06-.94 2.06-2.06.94z\"/><path d=\"M17.41 7.96l-1.37-1.37c-.4-.4-.92-.59-1.43-.59-.52 0-1.04.2-1.43.59L10.3 9.45l-7.72 7.72c-.78.78-.78 2.05 0 2.83L4 21.41c.39.39.9.59 1.41.59.51 0 1.02-.2 1.41-.59l7.78-7.78 2.81-2.81c.8-.78.8-2.07 0-2.86zM5.41 20L4 18.59l7.72-7.72 1.47 1.35L5.41 20z\"/>\n",
              "  </svg>\n",
              "      </button>\n",
              "      \n",
              "  <style>\n",
              "    .colab-df-container {\n",
              "      display:flex;\n",
              "      flex-wrap:wrap;\n",
              "      gap: 12px;\n",
              "    }\n",
              "\n",
              "    .colab-df-convert {\n",
              "      background-color: #E8F0FE;\n",
              "      border: none;\n",
              "      border-radius: 50%;\n",
              "      cursor: pointer;\n",
              "      display: none;\n",
              "      fill: #1967D2;\n",
              "      height: 32px;\n",
              "      padding: 0 0 0 0;\n",
              "      width: 32px;\n",
              "    }\n",
              "\n",
              "    .colab-df-convert:hover {\n",
              "      background-color: #E2EBFA;\n",
              "      box-shadow: 0px 1px 2px rgba(60, 64, 67, 0.3), 0px 1px 3px 1px rgba(60, 64, 67, 0.15);\n",
              "      fill: #174EA6;\n",
              "    }\n",
              "\n",
              "    [theme=dark] .colab-df-convert {\n",
              "      background-color: #3B4455;\n",
              "      fill: #D2E3FC;\n",
              "    }\n",
              "\n",
              "    [theme=dark] .colab-df-convert:hover {\n",
              "      background-color: #434B5C;\n",
              "      box-shadow: 0px 1px 3px 1px rgba(0, 0, 0, 0.15);\n",
              "      filter: drop-shadow(0px 1px 2px rgba(0, 0, 0, 0.3));\n",
              "      fill: #FFFFFF;\n",
              "    }\n",
              "  </style>\n",
              "\n",
              "      <script>\n",
              "        const buttonEl =\n",
              "          document.querySelector('#df-70eb825c-9cdb-490e-892f-9b56fab9f9e9 button.colab-df-convert');\n",
              "        buttonEl.style.display =\n",
              "          google.colab.kernel.accessAllowed ? 'block' : 'none';\n",
              "\n",
              "        async function convertToInteractive(key) {\n",
              "          const element = document.querySelector('#df-70eb825c-9cdb-490e-892f-9b56fab9f9e9');\n",
              "          const dataTable =\n",
              "            await google.colab.kernel.invokeFunction('convertToInteractive',\n",
              "                                                     [key], {});\n",
              "          if (!dataTable) return;\n",
              "\n",
              "          const docLinkHtml = 'Like what you see? Visit the ' +\n",
              "            '<a target=\"_blank\" href=https://colab.research.google.com/notebooks/data_table.ipynb>data table notebook</a>'\n",
              "            + ' to learn more about interactive tables.';\n",
              "          element.innerHTML = '';\n",
              "          dataTable['output_type'] = 'display_data';\n",
              "          await google.colab.output.renderOutput(dataTable, element);\n",
              "          const docLink = document.createElement('div');\n",
              "          docLink.innerHTML = docLinkHtml;\n",
              "          element.appendChild(docLink);\n",
              "        }\n",
              "      </script>\n",
              "    </div>\n",
              "  </div>\n",
              "  "
            ],
            "text/plain": [
              "                                          clean_tweet  sentiment  \\\n",
              "2   semproniust richardhanania nato aggressor mayb...          1   \n",
              "8   russianembassi olafscholz kremlinrussia_ mfa_r...          1   \n",
              "12  neillowenth putin probabl hope trump got elect...          1   \n",
              "14  resist laurenboebert brilliant ukrain countri ...          1   \n",
              "19  myaccou ohnoezzz jaylyall_r mani say napoleon ...          1   \n",
              "\n",
              "    retweetCount  likeCount  \n",
              "2              0          0  \n",
              "8              0          0  \n",
              "12             0          1  \n",
              "14             0          3  \n",
              "19             0          1  "
            ]
          },
          "execution_count": 28,
          "metadata": {},
          "output_type": "execute_result"
        }
      ],
      "source": [
        "df_pos = data[data['sentiment'] == 1]\n",
        "df_pos.head()"
      ],
      "id": "WtiQWvUjMT_u"
    },
    {
      "cell_type": "code",
      "execution_count": null,
      "metadata": {
        "colab": {
          "base_uri": "https://localhost:8080/"
        },
        "id": "6c9763b4",
        "outputId": "9e867c69-ab5a-479e-96ab-6358d438b192"
      },
      "outputs": [
        {
          "data": {
            "text/plain": [
              "49860768"
            ]
          },
          "execution_count": 29,
          "metadata": {},
          "output_type": "execute_result"
        }
      ],
      "source": [
        "pos_text = \" \".join(text for text in df_pos['clean_tweet'])\n",
        "\n",
        "len(pos_text) "
      ],
      "id": "6c9763b4"
    },
    {
      "cell_type": "code",
      "execution_count": null,
      "metadata": {
        "colab": {
          "base_uri": "https://localhost:8080/",
          "height": 219
        },
        "id": "k35e6fmWMQyl",
        "outputId": "c6bc87a8-e963-4d56-9f8d-8736b8a37e68"
      },
      "outputs": [
        {
          "data": {
            "image/png": "[encoded data removed]",
            "text/plain": [
              "<Figure size 432x288 with 1 Axes>"
            ]
          },
          "metadata": {},
          "output_type": "display_data"
        }
      ],
      "source": [
        "wc = WordCloud(max_font_size=100, max_words = 50,collocations=False).generate(pos_text)\n",
        "\n",
        "plt.imshow(wc, interpolation='bilinear')\n",
        "plt.show()"
      ],
      "id": "k35e6fmWMQyl"
    },
    {
      "cell_type": "code",
      "execution_count": null,
      "metadata": {
        "colab": {
          "base_uri": "https://localhost:8080/",
          "height": 206
        },
        "id": "aiL4o--ZSOf5",
        "outputId": "200dc323-6dd9-4dca-c3a9-02fd5bf9ddd9"
      },
      "outputs": [
        {
          "data": {
            "text/html": [
              "\n",
              "  <div id=\"df-1def69bb-2ef6-4f2e-a542-39dd2177a1de\">\n",
              "    <div class=\"colab-df-container\">\n",
              "      <div>\n",
              "<style scoped>\n",
              "    .dataframe tbody tr th:only-of-type {\n",
              "        vertical-align: middle;\n",
              "    }\n",
              "\n",
              "    .dataframe tbody tr th {\n",
              "        vertical-align: top;\n",
              "    }\n",
              "\n",
              "    .dataframe thead th {\n",
              "        text-align: right;\n",
              "    }\n",
              "</style>\n",
              "<table border=\"1\" class=\"dataframe\">\n",
              "  <thead>\n",
              "    <tr style=\"text-align: right;\">\n",
              "      <th></th>\n",
              "      <th>clean_tweet</th>\n",
              "      <th>sentiment</th>\n",
              "      <th>retweetCount</th>\n",
              "      <th>likeCount</th>\n",
              "    </tr>\n",
              "  </thead>\n",
              "  <tbody>\n",
              "    <tr>\n",
              "      <th>0</th>\n",
              "      <td>joe biden say get place putin decid invad russ...</td>\n",
              "      <td>0</td>\n",
              "      <td>26</td>\n",
              "      <td>99</td>\n",
              "    </tr>\n",
              "    <tr>\n",
              "      <th>1</th>\n",
              "      <td>profpaulpoast like countri sovereign proven va...</td>\n",
              "      <td>0</td>\n",
              "      <td>0</td>\n",
              "      <td>2</td>\n",
              "    </tr>\n",
              "    <tr>\n",
              "      <th>3</th>\n",
              "      <td>jakehas groutandgo mysticaura_ skylarjordan al...</td>\n",
              "      <td>0</td>\n",
              "      <td>0</td>\n",
              "      <td>0</td>\n",
              "    </tr>\n",
              "    <tr>\n",
              "      <th>4</th>\n",
              "      <td>__t___d carolecadwalla estellecostanza point u...</td>\n",
              "      <td>0</td>\n",
              "      <td>0</td>\n",
              "      <td>0</td>\n",
              "    </tr>\n",
              "    <tr>\n",
              "      <th>5</th>\n",
              "      <td>juliet_turn next ground actual go ukrain line ...</td>\n",
              "      <td>0</td>\n",
              "      <td>0</td>\n",
              "      <td>0</td>\n",
              "    </tr>\n",
              "  </tbody>\n",
              "</table>\n",
              "</div>\n",
              "      <button class=\"colab-df-convert\" onclick=\"convertToInteractive('df-1def69bb-2ef6-4f2e-a542-39dd2177a1de')\"\n",
              "              title=\"Convert this dataframe to an interactive table.\"\n",
              "              style=\"display:none;\">\n",
              "        \n",
              "  <svg xmlns=\"http://www.w3.org/2000/svg\" height=\"24px\"viewBox=\"0 0 24 24\"\n",
              "       width=\"24px\">\n",
              "    <path d=\"M0 0h24v24H0V0z\" fill=\"none\"/>\n",
              "    <path d=\"M18.56 5.44l.94 2.06.94-2.06 2.06-.94-2.06-.94-.94-2.06-.94 2.06-2.06.94zm-11 1L8.5 8.5l.94-2.06 2.06-.94-2.06-.94L8.5 2.5l-.94 2.06-2.06.94zm10 10l.94 2.06.94-2.06 2.06-.94-2.06-.94-.94-2.06-.94 2.06-2.06.94z\"/><path d=\"M17.41 7.96l-1.37-1.37c-.4-.4-.92-.59-1.43-.59-.52 0-1.04.2-1.43.59L10.3 9.45l-7.72 7.72c-.78.78-.78 2.05 0 2.83L4 21.41c.39.39.9.59 1.41.59.51 0 1.02-.2 1.41-.59l7.78-7.78 2.81-2.81c.8-.78.8-2.07 0-2.86zM5.41 20L4 18.59l7.72-7.72 1.47 1.35L5.41 20z\"/>\n",
              "  </svg>\n",
              "      </button>\n",
              "      \n",
              "  <style>\n",
              "    .colab-df-container {\n",
              "      display:flex;\n",
              "      flex-wrap:wrap;\n",
              "      gap: 12px;\n",
              "    }\n",
              "\n",
              "    .colab-df-convert {\n",
              "      background-color: #E8F0FE;\n",
              "      border: none;\n",
              "      border-radius: 50%;\n",
              "      cursor: pointer;\n",
              "      display: none;\n",
              "      fill: #1967D2;\n",
              "      height: 32px;\n",
              "      padding: 0 0 0 0;\n",
              "      width: 32px;\n",
              "    }\n",
              "\n",
              "    .colab-df-convert:hover {\n",
              "      background-color: #E2EBFA;\n",
              "      box-shadow: 0px 1px 2px rgba(60, 64, 67, 0.3), 0px 1px 3px 1px rgba(60, 64, 67, 0.15);\n",
              "      fill: #174EA6;\n",
              "    }\n",
              "\n",
              "    [theme=dark] .colab-df-convert {\n",
              "      background-color: #3B4455;\n",
              "      fill: #D2E3FC;\n",
              "    }\n",
              "\n",
              "    [theme=dark] .colab-df-convert:hover {\n",
              "      background-color: #434B5C;\n",
              "      box-shadow: 0px 1px 3px 1px rgba(0, 0, 0, 0.15);\n",
              "      filter: drop-shadow(0px 1px 2px rgba(0, 0, 0, 0.3));\n",
              "      fill: #FFFFFF;\n",
              "    }\n",
              "  </style>\n",
              "\n",
              "      <script>\n",
              "        const buttonEl =\n",
              "          document.querySelector('#df-1def69bb-2ef6-4f2e-a542-39dd2177a1de button.colab-df-convert');\n",
              "        buttonEl.style.display =\n",
              "          google.colab.kernel.accessAllowed ? 'block' : 'none';\n",
              "\n",
              "        async function convertToInteractive(key) {\n",
              "          const element = document.querySelector('#df-1def69bb-2ef6-4f2e-a542-39dd2177a1de');\n",
              "          const dataTable =\n",
              "            await google.colab.kernel.invokeFunction('convertToInteractive',\n",
              "                                                     [key], {});\n",
              "          if (!dataTable) return;\n",
              "\n",
              "          const docLinkHtml = 'Like what you see? Visit the ' +\n",
              "            '<a target=\"_blank\" href=https://colab.research.google.com/notebooks/data_table.ipynb>data table notebook</a>'\n",
              "            + ' to learn more about interactive tables.';\n",
              "          element.innerHTML = '';\n",
              "          dataTable['output_type'] = 'display_data';\n",
              "          await google.colab.output.renderOutput(dataTable, element);\n",
              "          const docLink = document.createElement('div');\n",
              "          docLink.innerHTML = docLinkHtml;\n",
              "          element.appendChild(docLink);\n",
              "        }\n",
              "      </script>\n",
              "    </div>\n",
              "  </div>\n",
              "  "
            ],
            "text/plain": [
              "                                         clean_tweet  sentiment  retweetCount  \\\n",
              "0  joe biden say get place putin decid invad russ...          0            26   \n",
              "1  profpaulpoast like countri sovereign proven va...          0             0   \n",
              "3  jakehas groutandgo mysticaura_ skylarjordan al...          0             0   \n",
              "4  __t___d carolecadwalla estellecostanza point u...          0             0   \n",
              "5  juliet_turn next ground actual go ukrain line ...          0             0   \n",
              "\n",
              "   likeCount  \n",
              "0         99  \n",
              "1          2  \n",
              "3          0  \n",
              "4          0  \n",
              "5          0  "
            ]
          },
          "execution_count": 31,
          "metadata": {},
          "output_type": "execute_result"
        }
      ],
      "source": [
        "df_neg = data[data['sentiment'] == 0]\n",
        "df_neg.head()"
      ],
      "id": "aiL4o--ZSOf5"
    },
    {
      "cell_type": "code",
      "execution_count": null,
      "metadata": {
        "colab": {
          "base_uri": "https://localhost:8080/"
        },
        "id": "EFRMyG0TShWo",
        "outputId": "e5bab131-2fde-40a9-f74f-dd8db8ed3730"
      },
      "outputs": [
        {
          "data": {
            "text/plain": [
              "108155403"
            ]
          },
          "execution_count": 32,
          "metadata": {},
          "output_type": "execute_result"
        }
      ],
      "source": [
        "neg_text = \" \".join(text for text in df_neg['clean_tweet'])\n",
        "\n",
        "len(neg_text) "
      ],
      "id": "EFRMyG0TShWo"
    },
    {
      "cell_type": "code",
      "execution_count": null,
      "metadata": {
        "colab": {
          "base_uri": "https://localhost:8080/",
          "height": 219
        },
        "id": "x7szz-jASOS6",
        "outputId": "8ca959a6-0736-4084-8f20-763384469189"
      },
      "outputs": [
        {
          "data": {
            "image/png": "[encoded data removed]",
            "text/plain": [
              "<Figure size 432x288 with 1 Axes>"
            ]
          },
          "metadata": {},
          "output_type": "display_data"
        }
      ],
      "source": [
        "wc = WordCloud(max_font_size=100, max_words = 50,collocations=False).generate(neg_text)\n",
        "\n",
        "plt.imshow(wc, interpolation='bilinear')\n",
        "plt.show()"
      ],
      "id": "x7szz-jASOS6"
    },
    {
      "cell_type": "code",
      "execution_count": null,
      "metadata": {
        "colab": {
          "base_uri": "https://localhost:8080/"
        },
        "id": "l_NRMURJWm37",
        "outputId": "dc92ff6d-b77b-482f-97ea-4408670abcac"
      },
      "outputs": [
        {
          "name": "stdout",
          "output_type": "stream",
          "text": [
            "Total Retweet count for Positive Tweets:  1805789.00\n",
            "Total Retweet count for Negative/Neutral Tweets:  4087827.00\n",
            "Total Like count for Positive Tweets:  7550820.00\n",
            "Total Like count for Negative/Neutral Tweets:  17888738.00\n",
            "Average Retweet count for Positive Tweets:  4.89\n",
            "Average Retweet count for Negative/Neutral Tweets:  4.32\n",
            "Average Like count for Positive Tweets:  20.43\n",
            "Average Like count for Negative/Neutral Tweets:  18.89\n"
          ]
        }
      ],
      "source": [
        "print(\"Total Retweet count for Positive Tweets: \", '{:.2f}'.format(df_pos['retweetCount'].sum()))\n",
        "print(\"Total Retweet count for Negative/Neutral Tweets: \", '{:.2f}'.format(df_neg['retweetCount'].sum()))\n",
        "\n",
        "print(\"Total Like count for Positive Tweets: \", '{:.2f}'.format(df_pos['likeCount'].sum()))\n",
        "print(\"Total Like count for Negative/Neutral Tweets: \", '{:.2f}'.format(df_neg['likeCount'].sum()))\n",
        "\n",
        "print(\"Average Retweet count for Positive Tweets: \", '{:.2f}'.format(df_pos['retweetCount'].mean()))\n",
        "print(\"Average Retweet count for Negative/Neutral Tweets: \", '{:.2f}'.format(df_neg['retweetCount'].mean()))\n",
        "\n",
        "print(\"Average Like count for Positive Tweets: \", '{:.2f}'.format(df_pos['likeCount'].mean()))\n",
        "print(\"Average Like count for Negative/Neutral Tweets: \", '{:.2f}'.format(df_neg['likeCount'].mean()))"
      ],
      "id": "l_NRMURJWm37"
    },
    {
      "cell_type": "code",
      "execution_count": null,
      "metadata": {
        "colab": {
          "base_uri": "https://localhost:8080/",
          "height": 290
        },
        "id": "9ayc6YCaWm1D",
        "outputId": "836b8cc5-4c59-4795-e330-f41caae94fa0"
      },
      "outputs": [
        {
          "data": {
            "image/png": "[encoded data removed]",
            "text/plain": [
              "<Figure size 432x288 with 1 Axes>"
            ]
          },
          "metadata": {},
          "output_type": "display_data"
        }
      ],
      "source": [
        "x = ['Positive', 'Negative']\n",
        "y = [df_pos['retweetCount'].sum(), df_neg['retweetCount'].sum()]\n",
        "\n",
        "plt.bar(x, y, color=['pink', 'gray'])\n",
        "plt.xlabel('Sentiments')\n",
        "plt.ylabel('Total Retweet Count')\n",
        "plt.show()"
      ],
      "id": "9ayc6YCaWm1D"
    },
    {
      "cell_type": "code",
      "execution_count": null,
      "metadata": {
        "colab": {
          "base_uri": "https://localhost:8080/",
          "height": 279
        },
        "id": "QzF0XEGd49hR",
        "outputId": "8cc66ce9-5b91-4fc0-f606-da2da7adaccd"
      },
      "outputs": [
        {
          "data": {
            "image/png": "[encoded data removed]",
            "text/plain": [
              "<Figure size 432x288 with 1 Axes>"
            ]
          },
          "metadata": {},
          "output_type": "display_data"
        }
      ],
      "source": [
        "x = ['Positive', 'Negative']\n",
        "y = [df_pos['retweetCount'].mean(), df_neg['retweetCount'].mean()]\n",
        "\n",
        "plt.bar(x, y, color=['pink', 'gray'])\n",
        "plt.xlabel('Sentiments')\n",
        "plt.ylabel('Average Retweet Count')\n",
        "plt.show()"
      ],
      "id": "QzF0XEGd49hR"
    },
    {
      "cell_type": "code",
      "execution_count": null,
      "metadata": {
        "colab": {
          "base_uri": "https://localhost:8080/",
          "height": 290
        },
        "id": "RJgNWMBq49UY",
        "outputId": "3dc3bc87-33fe-4981-acb4-b43484165f96"
      },
      "outputs": [
        {
          "data": {
            "image/png": "[encoded data removed]",
            "text/plain": [
              "<Figure size 432x288 with 1 Axes>"
            ]
          },
          "metadata": {},
          "output_type": "display_data"
        }
      ],
      "source": [
        "x = ['Positive', 'Negative']\n",
        "y = [df_pos['likeCount'].sum(), df_neg['likeCount'].sum()]\n",
        "\n",
        "plt.bar(x, y, color=['pink', 'gray'])\n",
        "plt.xlabel('Sentiments')\n",
        "plt.ylabel('Total Like Count')\n",
        "plt.show()"
      ],
      "id": "RJgNWMBq49UY"
    },
    {
      "cell_type": "code",
      "execution_count": null,
      "metadata": {
        "colab": {
          "base_uri": "https://localhost:8080/",
          "height": 279
        },
        "id": "jJvpZJajYYZi",
        "outputId": "5dec8fd3-1d6d-471c-989f-f770e34405eb"
      },
      "outputs": [
        {
          "data": {
            "image/png": "[encoded data removed]",
            "text/plain": [
              "<Figure size 432x288 with 1 Axes>"
            ]
          },
          "metadata": {},
          "output_type": "display_data"
        }
      ],
      "source": [
        "x = ['Positive', 'Negative']\n",
        "y = [df_pos['likeCount'].mean(), df_neg['likeCount'].mean()]\n",
        "\n",
        "plt.bar(x, y, color=['pink', 'gray'])\n",
        "plt.xlabel('Sentiments')\n",
        "plt.ylabel('Average Like Count')\n",
        "plt.show()"
      ],
      "id": "jJvpZJajYYZi"
    },
    {
      "cell_type": "markdown",
      "metadata": {
        "id": "HP4V6ys94onb"
      },
      "source": [
        "# Vectorization"
      ],
      "id": "HP4V6ys94onb"
    },
    {
      "cell_type": "code",
      "execution_count": null,
      "metadata": {
        "id": "02450e86"
      },
      "outputs": [],
      "source": [
        "from sklearn.feature_extraction.text import TfidfVectorizer, CountVectorizer\n",
        "import gensim"
      ],
      "id": "02450e86"
    },
    {
      "cell_type": "code",
      "execution_count": null,
      "metadata": {
        "colab": {
          "base_uri": "https://localhost:8080/"
        },
        "id": "a83e58bb",
        "outputId": "ccbad5aa-21b7-4c52-dcfa-b0481a6b362c"
      },
      "outputs": [
        {
          "data": {
            "text/plain": [
              "(1316605, 50000)"
            ]
          },
          "execution_count": 30,
          "metadata": {},
          "output_type": "execute_result"
        }
      ],
      "source": [
        "bow_vectorizer = CountVectorizer(max_df = 0.90, min_df=2, max_features = 50000, stop_words='english')\n",
        "\n",
        "bow = bow_vectorizer.fit_transform(data['clean_tweet'])\n",
        "\n",
        "bow.shape"
      ],
      "id": "a83e58bb"
    },
    {
      "cell_type": "code",
      "execution_count": null,
      "metadata": {
        "id": "1d3205ad"
      },
      "outputs": [],
      "source": [
        "tfidf_vectorizer = TfidfVectorizer(max_df = 0.90, min_df=2, max_features = 50000, stop_words='english')\n",
        "\n",
        "tfidf = tfidf_vectorizer.fit_transform(data['clean_tweet'])\n",
        "\n",
        "tfidf.shape"
      ],
      "id": "1d3205ad"
    },
    {
      "cell_type": "markdown",
      "metadata": {
        "id": "aHJFajoL8Xw6"
      },
      "source": [
        "# Dataset splitting"
      ],
      "id": "aHJFajoL8Xw6"
    },
    {
      "cell_type": "code",
      "execution_count": null,
      "metadata": {
        "colab": {
          "base_uri": "https://localhost:8080/"
        },
        "id": "28d6abc3",
        "outputId": "d28044fd-5818-4be6-e0b3-d07269a5dd72"
      },
      "outputs": [
        {
          "name": "stdout",
          "output_type": "stream",
          "text": [
            "(987453, 50000)\n",
            "(987453,)\n",
            "(329152, 50000)\n",
            "(329152,)\n"
          ]
        }
      ],
      "source": [
        "from sklearn.model_selection import train_test_split\n",
        "\n",
        "X1_train, X1_test, y1_train, y1_test = train_test_split(bow, data['sentiment'], test_size = 0.25, random_state = 0)\n",
        "\n",
        "print(X1_train.shape)\n",
        "print(y1_train.shape)\n",
        "print(X1_test.shape)\n",
        "print(y1_test.shape)\n"
      ],
      "id": "28d6abc3"
    },
    {
      "cell_type": "code",
      "execution_count": 20,
      "metadata": {
        "colab": {
          "base_uri": "https://localhost:8080/"
        },
        "id": "166a6b01",
        "outputId": "bd3e3e33-e8aa-4b4c-ee92-d09711a6decc"
      },
      "outputs": [
        {
          "output_type": "stream",
          "name": "stdout",
          "text": [
            "(987453, 50000)\n",
            "(987453,)\n",
            "(329152, 50000)\n",
            "(329152,)\n"
          ]
        }
      ],
      "source": [
        "from sklearn.model_selection import train_test_split\n",
        "\n",
        "X2_train, X2_test, y2_train, y2_test = train_test_split(tfidf, data['sentiment'], test_size = 0.25, random_state = 0)\n",
        "\n",
        "print(X2_train.shape)\n",
        "print(y2_train.shape)\n",
        "print(X2_test.shape)\n",
        "print(y2_test.shape)\n"
      ],
      "id": "166a6b01"
    },
    {
      "cell_type": "markdown",
      "metadata": {
        "id": "P_ydA0J16FQa"
      },
      "source": [
        "# Model Training"
      ],
      "id": "P_ydA0J16FQa"
    },
    {
      "cell_type": "markdown",
      "metadata": {
        "id": "-GNlF_rc1dla"
      },
      "source": [
        "## Logistic Regression"
      ],
      "id": "-GNlF_rc1dla"
    },
    {
      "cell_type": "code",
      "execution_count": null,
      "metadata": {
        "colab": {
          "base_uri": "https://localhost:8080/"
        },
        "id": "x3rsfHli1jzJ",
        "outputId": "10b43484-1546-4c73-c17c-56cdda6b93e6"
      },
      "outputs": [
        {
          "name": "stdout",
          "output_type": "stream",
          "text": [
            "[[233768   3042]\n",
            " [  9062  83280]]\n"
          ]
        }
      ],
      "source": [
        "from sklearn.linear_model import LogisticRegression\n",
        "from sklearn.metrics import confusion_matrix, classification_report\n",
        "\n",
        "model = LogisticRegression(max_iter = 1000, random_state = 0)\n",
        "model.fit(X1_train, y1_train)\n",
        "\n",
        "y1_pred = model.predict(X1_test)\n",
        "\n",
        "cm = confusion_matrix(y1_test, y1_pred)\n",
        "print(cm)\n"
      ],
      "id": "x3rsfHli1jzJ"
    },
    {
      "cell_type": "code",
      "execution_count": null,
      "metadata": {
        "colab": {
          "base_uri": "https://localhost:8080/"
        },
        "id": "YPGpvBc41lIh",
        "outputId": "ff57484d-93fd-4036-b6e5-bde6b23cb858"
      },
      "outputs": [
        {
          "name": "stdout",
          "output_type": "stream",
          "text": [
            "              precision    recall  f1-score   support\n",
            "\n",
            "           0       0.96      0.99      0.97    236810\n",
            "           1       0.96      0.90      0.93     92342\n",
            "\n",
            "    accuracy                           0.96    329152\n",
            "   macro avg       0.96      0.94      0.95    329152\n",
            "weighted avg       0.96      0.96      0.96    329152\n",
            "\n"
          ]
        }
      ],
      "source": [
        "print(classification_report(y1_test, y1_pred))"
      ],
      "id": "YPGpvBc41lIh"
    },
    {
      "cell_type": "code",
      "execution_count": null,
      "metadata": {
        "colab": {
          "base_uri": "https://localhost:8080/"
        },
        "id": "W4G7uBC71k-X",
        "outputId": "555e6fbd-4c56-44eb-8ec5-c7f87e551bf2"
      },
      "outputs": [
        {
          "name": "stdout",
          "output_type": "stream",
          "text": [
            "[[233230   3580]\n",
            " [ 10622  81720]]\n"
          ]
        }
      ],
      "source": [
        "model.fit(X2_train, y2_train)\n",
        "\n",
        "y2_pred = model.predict(X2_test)\n",
        "\n",
        "cm = confusion_matrix(y2_test, y2_pred)\n",
        "print(cm)\n"
      ],
      "id": "W4G7uBC71k-X"
    },
    {
      "cell_type": "code",
      "execution_count": null,
      "metadata": {
        "colab": {
          "base_uri": "https://localhost:8080/"
        },
        "id": "M4wiRco-1kym",
        "outputId": "237b1861-e51d-41f7-9c2c-3ae23c80507c"
      },
      "outputs": [
        {
          "name": "stdout",
          "output_type": "stream",
          "text": [
            "              precision    recall  f1-score   support\n",
            "\n",
            "           0       0.96      0.98      0.97    236810\n",
            "           1       0.96      0.88      0.92     92342\n",
            "\n",
            "    accuracy                           0.96    329152\n",
            "   macro avg       0.96      0.93      0.95    329152\n",
            "weighted avg       0.96      0.96      0.96    329152\n",
            "\n"
          ]
        }
      ],
      "source": [
        "print(classification_report(y2_test, y2_pred))"
      ],
      "id": "M4wiRco-1kym"
    },
    {
      "cell_type": "markdown",
      "metadata": {
        "id": "add39348"
      },
      "source": [
        "## Naive Bayes"
      ],
      "id": "add39348"
    },
    {
      "cell_type": "code",
      "execution_count": null,
      "metadata": {
        "colab": {
          "base_uri": "https://localhost:8080/"
        },
        "id": "b6f41909",
        "outputId": "b87a17e2-c0a9-4d62-ef7a-43f1caf6cd91"
      },
      "outputs": [
        {
          "name": "stdout",
          "output_type": "stream",
          "text": [
            "[[208155  28655]\n",
            " [ 10302  82040]]\n"
          ]
        }
      ],
      "source": [
        "from sklearn.naive_bayes import MultinomialNB\n",
        "from sklearn.metrics import confusion_matrix, accuracy_score, classification_report\n",
        "\n",
        "model = MultinomialNB()\n",
        "model.fit(X1_train, y1_train)\n",
        "\n",
        "y1_pred = model.predict(X1_test)\n",
        "\n",
        "cm = confusion_matrix(y1_test, y1_pred)\n",
        "\n",
        "print(cm)\n",
        "\n"
      ],
      "id": "b6f41909"
    },
    {
      "cell_type": "code",
      "execution_count": null,
      "metadata": {
        "colab": {
          "base_uri": "https://localhost:8080/"
        },
        "id": "f214ee80",
        "outputId": "6b714c8e-d6de-4f55-8163-8c602c9b26fd"
      },
      "outputs": [
        {
          "name": "stdout",
          "output_type": "stream",
          "text": [
            "              precision    recall  f1-score   support\n",
            "\n",
            "           0       0.95      0.88      0.91    236810\n",
            "           1       0.74      0.89      0.81     92342\n",
            "\n",
            "    accuracy                           0.88    329152\n",
            "   macro avg       0.85      0.88      0.86    329152\n",
            "weighted avg       0.89      0.88      0.88    329152\n",
            "\n"
          ]
        }
      ],
      "source": [
        "print(classification_report(y1_test, y1_pred))"
      ],
      "id": "f214ee80"
    },
    {
      "cell_type": "code",
      "execution_count": null,
      "metadata": {
        "colab": {
          "base_uri": "https://localhost:8080/"
        },
        "id": "e22ff337",
        "outputId": "ff67200e-2230-42df-fd72-c90dd6c27d8d"
      },
      "outputs": [
        {
          "name": "stdout",
          "output_type": "stream",
          "text": [
            "[[234979   1831]\n",
            " [ 54886  37456]]\n"
          ]
        }
      ],
      "source": [
        "model.fit(X2_train, y2_train)\n",
        "\n",
        "y2_pred = model.predict(X2_test)\n",
        "\n",
        "cm = confusion_matrix(y2_test, y2_pred)\n",
        "print(cm)\n"
      ],
      "id": "e22ff337"
    },
    {
      "cell_type": "code",
      "execution_count": null,
      "metadata": {
        "colab": {
          "base_uri": "https://localhost:8080/"
        },
        "id": "e510dbff",
        "outputId": "e93dea94-94b1-4a1b-e539-1f14bc76782e"
      },
      "outputs": [
        {
          "name": "stdout",
          "output_type": "stream",
          "text": [
            "              precision    recall  f1-score   support\n",
            "\n",
            "           0       0.81      0.99      0.89    236810\n",
            "           1       0.95      0.41      0.57     92342\n",
            "\n",
            "    accuracy                           0.83    329152\n",
            "   macro avg       0.88      0.70      0.73    329152\n",
            "weighted avg       0.85      0.83      0.80    329152\n",
            "\n"
          ]
        }
      ],
      "source": [
        "print(classification_report(y2_test, y2_pred))"
      ],
      "id": "e510dbff"
    },
    {
      "cell_type": "markdown",
      "metadata": {
        "id": "a645e505"
      },
      "source": [
        "## Decision Tree "
      ],
      "id": "a645e505"
    },
    {
      "cell_type": "code",
      "execution_count": null,
      "metadata": {
        "colab": {
          "background_save": true,
          "base_uri": "https://localhost:8080/"
        },
        "id": "3689f8b4",
        "outputId": "3f22dcdd-6971-4be5-d51e-f933a5d7aaf0"
      },
      "outputs": [
        {
          "name": "stdout",
          "output_type": "stream",
          "text": [
            "[[230907   5903]\n",
            " [  7487  84855]]\n"
          ]
        }
      ],
      "source": [
        "from sklearn.tree import DecisionTreeClassifier\n",
        "model = DecisionTreeClassifier(criterion = 'entropy', random_state = 0)\n",
        "\n",
        "model.fit(X1_train, y1_train)\n",
        "\n",
        "y1_pred = model.predict(X1_test)\n",
        "\n",
        "cm = confusion_matrix(y1_test, y1_pred)\n",
        "\n",
        "print(cm)\n"
      ],
      "id": "3689f8b4"
    },
    {
      "cell_type": "code",
      "execution_count": null,
      "metadata": {
        "colab": {
          "background_save": true,
          "base_uri": "https://localhost:8080/"
        },
        "id": "406faffb",
        "outputId": "3a55a752-8e3e-46c3-b42b-26849a83a445"
      },
      "outputs": [
        {
          "name": "stdout",
          "output_type": "stream",
          "text": [
            "              precision    recall  f1-score   support\n",
            "\n",
            "           0       0.97      0.98      0.97    236810\n",
            "           1       0.93      0.92      0.93     92342\n",
            "\n",
            "    accuracy                           0.96    329152\n",
            "   macro avg       0.95      0.95      0.95    329152\n",
            "weighted avg       0.96      0.96      0.96    329152\n",
            "\n"
          ]
        }
      ],
      "source": [
        "print(classification_report(y1_test, y1_pred))"
      ],
      "id": "406faffb"
    },
    {
      "cell_type": "code",
      "execution_count": null,
      "metadata": {
        "colab": {
          "background_save": true
        },
        "id": "ba9684fc",
        "outputId": "a048238f-be84-41ef-c7c3-ac83e408609a"
      },
      "outputs": [
        {
          "name": "stdout",
          "output_type": "stream",
          "text": [
            "[[229599   7211]\n",
            " [  8068  84274]]\n"
          ]
        }
      ],
      "source": [
        "model.fit(X2_train, y2_train)\n",
        "\n",
        "y2_pred = model.predict(X2_test)\n",
        "\n",
        "cm = confusion_matrix(y2_test, y2_pred)\n",
        "print(cm)\n"
      ],
      "id": "ba9684fc"
    },
    {
      "cell_type": "code",
      "execution_count": null,
      "metadata": {
        "colab": {
          "background_save": true
        },
        "id": "22b5d8a5",
        "outputId": "13e035a6-6936-4759-dfa1-b0deea999bf0"
      },
      "outputs": [
        {
          "name": "stdout",
          "output_type": "stream",
          "text": [
            "              precision    recall  f1-score   support\n",
            "\n",
            "           0       0.97      0.97      0.97    236810\n",
            "           1       0.92      0.91      0.92     92342\n",
            "\n",
            "    accuracy                           0.95    329152\n",
            "   macro avg       0.94      0.94      0.94    329152\n",
            "weighted avg       0.95      0.95      0.95    329152\n",
            "\n"
          ]
        }
      ],
      "source": [
        "print(classification_report(y2_test, y2_pred))"
      ],
      "id": "22b5d8a5"
    },
    {
      "cell_type": "markdown",
      "metadata": {
        "id": "0732beeb"
      },
      "source": [
        "## Random Forest"
      ],
      "id": "0732beeb"
    },
    {
      "cell_type": "code",
      "execution_count": null,
      "metadata": {
        "colab": {
          "background_save": true
        },
        "id": "f4f7e74d",
        "outputId": "2931ce90-ea60-41fd-f93c-08fa4052dc7f"
      },
      "outputs": [
        {
          "name": "stdout",
          "output_type": "stream",
          "text": [
            "[[232618   4192]\n",
            " [ 18219  74123]]\n"
          ]
        }
      ],
      "source": [
        "from sklearn.ensemble import RandomForestClassifier\n",
        "model = RandomForestClassifier(n_estimators = 10, criterion = 'entropy', random_state = 0)\n",
        "\n",
        "model.fit(X1_train, y1_train)\n",
        "\n",
        "y1_pred = model.predict(X1_test)\n",
        "\n",
        "cm = confusion_matrix(y1_test, y1_pred)\n",
        "\n",
        "print(cm)\n"
      ],
      "id": "f4f7e74d"
    },
    {
      "cell_type": "code",
      "execution_count": null,
      "metadata": {
        "colab": {
          "background_save": true
        },
        "id": "c9c906dc",
        "outputId": "861a6063-5670-49e1-adbd-20b7680a3955"
      },
      "outputs": [
        {
          "name": "stdout",
          "output_type": "stream",
          "text": [
            "              precision    recall  f1-score   support\n",
            "\n",
            "           0       0.93      0.98      0.95    236810\n",
            "           1       0.95      0.80      0.87     92342\n",
            "\n",
            "    accuracy                           0.93    329152\n",
            "   macro avg       0.94      0.89      0.91    329152\n",
            "weighted avg       0.93      0.93      0.93    329152\n",
            "\n"
          ]
        }
      ],
      "source": [
        "print(classification_report(y1_test, y1_pred))"
      ],
      "id": "c9c906dc"
    },
    {
      "cell_type": "code",
      "execution_count": 21,
      "metadata": {
        "id": "0e1cc8e9",
        "colab": {
          "base_uri": "https://localhost:8080/"
        },
        "outputId": "48770919-d819-4ca9-809c-b39b252d2e87"
      },
      "outputs": [
        {
          "output_type": "stream",
          "name": "stdout",
          "text": [
            "[[232574   4236]\n",
            " [ 19137  73205]]\n"
          ]
        }
      ],
      "source": [
        "model.fit(X2_train, y2_train)\n",
        "\n",
        "y2_pred = model.predict(X2_test)\n",
        "\n",
        "cm = confusion_matrix(y2_test, y2_pred)\n",
        "print(cm)\n"
      ],
      "id": "0e1cc8e9"
    },
    {
      "cell_type": "code",
      "execution_count": 22,
      "metadata": {
        "id": "73adf4ec",
        "colab": {
          "base_uri": "https://localhost:8080/"
        },
        "outputId": "ea74eca9-05e8-4d05-a08c-ec467040910c"
      },
      "outputs": [
        {
          "metadata": {
            "tags": null
          },
          "name": "stdout",
          "output_type": "stream",
          "text": [
            "              precision    recall  f1-score   support\n",
            "\n",
            "           0       0.92      0.98      0.95    236810\n",
            "           1       0.95      0.79      0.86     92342\n",
            "\n",
            "    accuracy                           0.93    329152\n",
            "   macro avg       0.93      0.89      0.91    329152\n",
            "weighted avg       0.93      0.93      0.93    329152\n",
            "\n"
          ]
        }
      ],
      "source": [
        "print(classification_report(y2_test, y2_pred))"
      ],
      "id": "73adf4ec"
    },
    {
      "cell_type": "code",
      "source": [
        "\n",
        "  "
      ],
      "metadata": {
        "id": "0R4_3rV6Wq9C"
      },
      "id": "0R4_3rV6Wq9C",
      "execution_count": null,
      "outputs": []
    }
  ],
  "metadata": {
    "colab": {
      "collapsed_sections": [
        "add39348",
        "a645e505",
        "0732beeb"
      ],
      "toc_visible": true,
      "provenance": []
    },
    "kernelspec": {
      "display_name": "Python 3 (ipykernel)",
      "language": "python",
      "name": "python3"
    },
    "language_info": {
      "codemirror_mode": {
        "name": "ipython",
        "version": 3
      },
      "file_extension": ".py",
      "mimetype": "text/x-python",
      "name": "python",
      "nbconvert_exporter": "python",
      "pygments_lexer": "ipython3",
      "version": "3.10.4"
    }
  },
  "nbformat": 4,
  "nbformat_minor": 5
}
